{
 "cells": [
  {
   "cell_type": "code",
   "execution_count": 1,
   "id": "abd90ac2",
   "metadata": {},
   "outputs": [],
   "source": [
    "import os\n",
    "import torch\n",
    "import librosa\n",
    "import librosa.display\n",
    "import scipy\n",
    "import glob\n",
    "import random\n",
    "import numpy as np\n",
    "import matplotlib.pyplot as plt\n",
    "import IPython.display as ipd"
   ]
  },
  {
   "cell_type": "markdown",
   "id": "70fdc087",
   "metadata": {},
   "source": [
    "## Constants"
   ]
  },
  {
   "cell_type": "code",
   "execution_count": 2,
   "id": "a4cadebf",
   "metadata": {},
   "outputs": [],
   "source": [
    "fs = 16e3 # [Hz] sampling frequency\n",
    "windowLength = 256 # {from paper}\n",
    "fftLength = windowLength\n",
    "overlap = round(0.25 * windowLength) # overlap of 75% makes good prediction; {from paper}\n",
    "window = scipy.signal.hamming(windowLength, sym=False) # Hamming window {from paper}\n",
    "numSegments = 8\n",
    "numFeatures = fftLength // 2 + 1"
   ]
  },
  {
   "cell_type": "markdown",
   "id": "7b6c1bcf",
   "metadata": {},
   "source": [
    "## Utilities"
   ]
  },
  {
   "cell_type": "code",
   "execution_count": 3,
   "id": "5ccc112d",
   "metadata": {},
   "outputs": [],
   "source": [
    "def read_audio(filepath, sample_rate, normalize=True):\n",
    "    \"\"\"Read an audio file and return it as a numpy array\"\"\"\n",
    "    audio, sr = librosa.load(filepath, sr=sample_rate)\n",
    "    #Normalization?\n",
    "    if normalize:\n",
    "        div_fac = 1 / np.max(np.abs(audio)) / 3.0\n",
    "        audio = audio * div_fac\n",
    "    return audio, sr\n",
    "    \n",
    "def remove_silent_frames(audio):\n",
    "    trimed_audio = []\n",
    "    indices = librosa.effects.split(audio, hop_length = overlap, top_db=20)\n",
    "\n",
    "    for index in indices:\n",
    "        trimed_audio.extend(audio[index[0]: index[1]])\n",
    "    return np.array(trimed_audio)\n",
    "\n",
    "def add_noise_to_clean_audio(clean_audio, noise_signal):\n",
    "    \"\"\"Adds noise to an audio sample\"\"\"\n",
    "    if len(clean_audio) >= len(noise_signal):\n",
    "        # print(\"The noisy signal is smaller than the clean audio input. Duplicating the noise.\")\n",
    "        while len(clean_audio) >= len(noise_signal):\n",
    "            noise_signal = np.append(noise_signal, noise_signal)\n",
    "\n",
    "    # Extract a noise segment from a random location in the noise file\n",
    "    ind = np.random.randint(0, noise_signal.size - clean_audio.size)\n",
    "    \n",
    "    noise_segment = noise_signal[ind: ind + clean_audio.size]\n",
    "\n",
    "    speech_power = np.sum(clean_audio ** 2)\n",
    "    noise_power = np.sum(noise_segment ** 2)\n",
    "    noisy_audio = clean_audio + np.sqrt(speech_power / noise_power) * noise_segment\n",
    "    return noisy_audio\n",
    "\n",
    "def extend_all_speaches_to_same_size(sample_speach_filenames):\n",
    "    speaches = []\n",
    "    \n",
    "    max_length = 0\n",
    "    for filename in sample_speach_filenames:\n",
    "        sound_audio, sampl_rate_sound = read_audio(filename, sample_rate=fs)\n",
    "        if max_length < len(sound_audio):\n",
    "            max_length = len(sound_audio)\n",
    "        speaches.append([sound_audio, sampl_rate_sound])\n",
    "        \n",
    "    for sound_data in speaches:\n",
    "        sound_data[0] = np.pad(sound_data[0], (0, max_length - len(sound_data[0])), mode='constant')\n",
    "        \n",
    "    return speaches\n",
    "        \n",
    "def play_sound(audio, sample_rate):\n",
    "    ipd.display(ipd.Audio(data=audio, rate=sample_rate)) \n",
    "    "
   ]
  },
  {
   "cell_type": "code",
   "execution_count": 4,
   "id": "104f49a4",
   "metadata": {},
   "outputs": [],
   "source": [
    "def prepare_input_features(stft_features, numSegments, numFeatures):\n",
    "    noisySTFT = np.concatenate([stft_features[:, 0:numSegments - 1], stft_features], axis=1)\n",
    "    stftSegments = np.zeros((numFeatures, numSegments, noisySTFT.shape[1] - numSegments + 1))\n",
    "\n",
    "    for index in range(noisySTFT.shape[1] - numSegments + 1):\n",
    "        stftSegments[:, :, index] = noisySTFT[:, index:index + numSegments]\n",
    "    return stftSegments"
   ]
  },
  {
   "cell_type": "markdown",
   "id": "529ba139",
   "metadata": {},
   "source": [
    "## Dataset"
   ]
  },
  {
   "cell_type": "code",
   "execution_count": 5,
   "id": "798d9086",
   "metadata": {},
   "outputs": [],
   "source": [
    "path_to_noise_dataset = \"../../dataset/noise_dataset/audio/\"\n",
    "all_noise_filenames = glob.glob(os.path.join(path_to_noise_dataset, 'fold*', '*.*'))\n",
    "#print(all_noise_filenames[0:10])\n",
    "\n",
    "path_to_speach_dataset = \"../../dataset/en/clips\"\n",
    "all_speach_filenames = glob.glob(os.path.join(path_to_speach_dataset, '*.*'))\n",
    "#print(all_speach_filenames[0:10])\n",
    "#print(len(all_speach_filenames))"
   ]
  },
  {
   "cell_type": "markdown",
   "id": "fa6630ed",
   "metadata": {},
   "source": [
    "## Sound"
   ]
  },
  {
   "cell_type": "code",
   "execution_count": 49,
   "id": "3cd9c22b",
   "metadata": {},
   "outputs": [
    {
     "name": "stdout",
     "output_type": "stream",
     "text": [
      "50\n",
      "35\n",
      "10\n",
      "5\n"
     ]
    }
   ],
   "source": [
    "speach_sample_size = 50 # dataset has ~1e7 sounds, so we need smaller samplegg\n",
    "sample_speach_filenames = random.sample(all_speach_filenames, speach_sample_size)\n",
    "\n",
    "print(len(sample_speach_filenames))\n",
    "\n",
    "train_set_percentage = 70 #%\n",
    "validation_set_percentage = 20 #%\n",
    "test_set_percentage = 10 #%\n",
    "\n",
    "speach_filenames_train, speach_filenames_validation, speach_filenames_test = \\\n",
    "    np.split(sample_speach_filenames, \\\n",
    "             [int(speach_sample_size * train_set_percentage / 100.), \\\n",
    "              int(speach_sample_size * (train_set_percentage + validation_set_percentage) / 100.)])\n",
    "\n",
    "print(len(speach_filenames_train))\n",
    "print(len(speach_filenames_validation))\n",
    "print(len(speach_filenames_test))"
   ]
  },
  {
   "cell_type": "code",
   "execution_count": 50,
   "id": "369d54ce",
   "metadata": {
    "scrolled": false
   },
   "outputs": [],
   "source": [
    "def fetch_data_for_nn(sample_speach_filenames):\n",
    "    speach_data_for_nn = []\n",
    "    noised_data_for_nn = []\n",
    "\n",
    "    for filename in sample_speach_filenames:\n",
    "        sound_audio, sampl_rate_sound = read_audio(filename, sample_rate=fs)\n",
    "\n",
    "        #play sound_audio without cutting empty voice\n",
    "        #play_sound(sound_audio, sampl_rate_sound)\n",
    "\n",
    "        sound_audio = remove_silent_frames(sound_audio)\n",
    "\n",
    "        speach_stft = librosa.stft(sound_audio, n_fft=fftLength, win_length=windowLength, hop_length=overlap, window=window, center=True)\n",
    "        speach_stft_abs = np.abs(speach_stft)\n",
    "        speach_stft_phase = np.angle(speach_stft)\n",
    "\n",
    "        #speach_stft_abs_db = librosa.amplitude_to_db(speach_stft_abs,ref=np.max)\n",
    "        #fig, ax = plt.subplots()\n",
    "        #img = librosa.display.specshow(speach_stft_abs_db, y_axis='linear', x_axis='time', ax=ax)\n",
    "        #ax.set_title('Clear speach')\n",
    "        #fig.colorbar(img, ax=ax, format=\"%+2.0f dB\")\n",
    "\n",
    "        random_noise_signal_index = np.random.randint(0, len(all_noise_filenames) - 1)\n",
    "        noise_audio, sampl_rate_noise = read_audio(all_noise_filenames[random_noise_signal_index], sample_rate=fs)\n",
    "\n",
    "        noise_audio = remove_silent_frames(noise_audio)\n",
    "\n",
    "        noise_stft = librosa.stft(noise_audio, n_fft=fftLength, win_length=windowLength, hop_length=overlap, window=window, center=True)\n",
    "        noise_stft_abs = np.abs(noise_stft)\n",
    "        noise_stft_phase = np.angle(noise_stft)\n",
    "\n",
    "        #noise_stft_abs_db = librosa.amplitude_to_db(noise_stft_abs,ref=np.max)\n",
    "\n",
    "\n",
    "        noise_and_speach = add_noise_to_clean_audio(sound_audio, noise_audio)    \n",
    "\n",
    "        noise_and_speach_stft = librosa.stft(noise_and_speach, n_fft=fftLength, win_length=windowLength, hop_length=overlap, window=window, center=True)\n",
    "        noise_and_speach_stft_abs = np.abs(noise_and_speach_stft)\n",
    "\n",
    "        #noise_and_speach_stft_abs_db = librosa.amplitude_to_db(noise_and_speach_stft_abs,ref=np.max)\n",
    "        #fig, ax = plt.subplots()\n",
    "        #img = librosa.display.specshow(noise_and_speach_stft_abs_db, y_axis='linear', x_axis='time', ax=ax)\n",
    "        #ax.set_title('Noisy speach')\n",
    "        #fig.colorbar(img, ax=ax, format=\"%+2.0f dB\")\n",
    "\n",
    "    #    speach_data_for_nn.append(speach_stft_abs)\n",
    "    #    noised_data_for_nn.append(noise_and_speach_stft_abs)    \n",
    "\n",
    "        #print(noise_and_speach_stft_abs.shape)\n",
    "\n",
    "        noise_and_speach_chunks = prepare_input_features(noise_and_speach_stft_abs, numSegments, numFeatures)\n",
    "\n",
    "        #print(noise_and_speach_chunks.shape, speach_stft_abs.shape)\n",
    "\n",
    "        noise_and_speach_chunks = np.transpose(noise_and_speach_chunks, (2, 0, 1))\n",
    "        speach_stft_abs = np.transpose(speach_stft_abs, (1, 0))\n",
    "    #    noise_stft_phase = np.transpose(noise_stft_phase, (1, 0))\n",
    "\n",
    "        #print(noise_and_speach_chunks.shape, speach_stft_abs.shape)\n",
    "\n",
    "        speach_data_for_nn.append(speach_stft_abs)\n",
    "        noised_data_for_nn.append(noise_and_speach_chunks)\n",
    "\n",
    "        #play sound_audio\n",
    "        #play_sound(sound_audio, sampl_rate_sound)\n",
    "        #play noise_audio\n",
    "        #play_sound(noise_audio, sampl_rate_noise)\n",
    "        #play noise_and_speach\n",
    "        #play_sound(noise_and_speach, sampl_rate_sound)\n",
    "\n",
    "        #print(noise_and_speach_stft_abs.shape)\n",
    "        #print(\"--\")\n",
    "\n",
    "    #print(\"++\")\n",
    "    speach_data_for_nn = np.concatenate(speach_data_for_nn)\n",
    "    speach_data_for_nn = speach_data_for_nn[:,:,None]\n",
    "    noised_data_for_nn = np.concatenate(noised_data_for_nn)\n",
    "    \n",
    "    return noised_data_for_nn, speach_data_for_nn"
   ]
  },
  {
   "cell_type": "code",
   "execution_count": 53,
   "id": "6f1ff154",
   "metadata": {},
   "outputs": [
    {
     "name": "stdout",
     "output_type": "stream",
     "text": [
      "(26596, 129, 8) (26596, 129, 1)\n",
      "(7562, 129, 8) (7562, 129, 1)\n",
      "(2910, 129, 8) (2910, 129, 1)\n"
     ]
    }
   ],
   "source": [
    "# train data fetch\n",
    "train_noised_data_for_nn, train_speach_data_for_nn = fetch_data_for_nn(speach_filenames_train)\n",
    "train_noised_data_for_nn = train_noised_data_for_nn.astype(np.float32)\n",
    "train_speach_data_for_nn = train_speach_data_for_nn.astype(np.float32)\n",
    "\n",
    "\n",
    "print(train_noised_data_for_nn.shape, train_speach_data_for_nn.shape)\n",
    "\n",
    "# validation data fetch\n",
    "validation_noised_data_for_nn, validation_speach_data_for_nn = fetch_data_for_nn(speach_filenames_validation)\n",
    "validation_noised_data_for_nn = validation_noised_data_for_nn.astype(np.float32)\n",
    "validation_speach_data_for_nn = validation_speach_data_for_nn.astype(np.float32)\n",
    "\n",
    "print(validation_noised_data_for_nn.shape, validation_speach_data_for_nn.shape)\n",
    "\n",
    "# test data fetch\n",
    "test_noised_data_for_nn, test_speach_data_for_nn = fetch_data_for_nn(speach_filenames_test)\n",
    "test_noised_data_for_nn = test_noised_data_for_nn.astype(np.float32)\n",
    "test_speach_data_for_nn = test_speach_data_for_nn.astype(np.float32)\n",
    "\n",
    "print(test_noised_data_for_nn.shape, test_speach_data_for_nn.shape)\n",
    "\n"
   ]
  },
  {
   "cell_type": "markdown",
   "id": "8366df20",
   "metadata": {},
   "source": [
    "## Dataset and Dataloader"
   ]
  },
  {
   "cell_type": "code",
   "execution_count": 55,
   "id": "3ee04909",
   "metadata": {},
   "outputs": [],
   "source": [
    "from torch.utils.data import TensorDataset\n",
    "from torch.utils.data import DataLoader\n",
    "\n",
    "batch_size = 32"
   ]
  },
  {
   "cell_type": "code",
   "execution_count": 56,
   "id": "79ff805b",
   "metadata": {},
   "outputs": [],
   "source": [
    "train_set=TensorDataset(torch.from_numpy(train_noised_data_for_nn), torch.from_numpy(train_speach_data_for_nn))\n",
    "train_loader=DataLoader(train_set, batch_size=batch_size, shuffle=True)\n",
    "\n",
    "\n",
    "validation_set=TensorDataset(torch.from_numpy(validation_noised_data_for_nn), torch.from_numpy(validation_speach_data_for_nn))\n",
    "validation_loader=DataLoader(train_set, batch_size = batch_size, shuffle = True)\n",
    "\n",
    "#data_set = {'train': train_l}\n",
    "\n",
    "test_set=TensorDataset(torch.from_numpy(test_noised_data_for_nn), torch.from_numpy(test_speach_data_for_nn))\n",
    "test_loader=DataLoader(train_set, batch_size = batch_size, shuffle = True)\n",
    "\n"
   ]
  },
  {
   "cell_type": "code",
   "execution_count": 58,
   "id": "a7f900ee",
   "metadata": {
    "scrolled": true
   },
   "outputs": [
    {
     "data": {
      "image/png": "[encoded data removed]",
      "text/plain": [
       "<Figure size 432x288 with 2 Axes>"
      ]
     },
     "metadata": {
      "needs_background": "light"
     },
     "output_type": "display_data"
    },
    {
     "data": {
      "image/png": "[encoded data removed]",
      "text/plain": [
       "<Figure size 432x288 with 2 Axes>"
      ]
     },
     "metadata": {
      "needs_background": "light"
     },
     "output_type": "display_data"
    },
    {
     "data": {
      "image/png": "[encoded data removed]",
      "text/plain": [
       "<Figure size 432x288 with 2 Axes>"
      ]
     },
     "metadata": {
      "needs_background": "light"
     },
     "output_type": "display_data"
    },
    {
     "data": {
      "image/png": "[encoded data removed]",
      "text/plain": [
       "<Figure size 432x288 with 2 Axes>"
      ]
     },
     "metadata": {
      "needs_background": "light"
     },
     "output_type": "display_data"
    },
    {
     "data": {
      "image/png": "[encoded data removed]",
      "text/plain": [
       "<Figure size 432x288 with 2 Axes>"
      ]
     },
     "metadata": {
      "needs_background": "light"
     },
     "output_type": "display_data"
    },
    {
     "data": {
      "image/png": "[encoded data removed]",
      "text/plain": [
       "<Figure size 432x288 with 2 Axes>"
      ]
     },
     "metadata": {
      "needs_background": "light"
     },
     "output_type": "display_data"
    }
   ],
   "source": [
    "\n",
    "for xb,yb in train_loader:\n",
    "\n",
    "    for i in range(len(xb)):\n",
    "        noise_and_speach_stft_abs_db = librosa.amplitude_to_db(xb[1],ref=np.max)\n",
    "        fig, ax = plt.subplots()\n",
    "        img = librosa.display.specshow(noise_and_speach_stft_abs_db, y_axis='linear', x_axis='time', ax=ax)\n",
    "        ax.set_title('Noisy speach')\n",
    "        fig.colorbar(img, ax=ax, format=\"%+2.0f dB\")\n",
    "\n",
    "        noise_and_speach_stft_abs_db = librosa.amplitude_to_db(yb[1],ref=np.max)\n",
    "        fig, ax = plt.subplots()\n",
    "        img = librosa.display.specshow(noise_and_speach_stft_abs_db, y_axis='linear', x_axis='time', ax=ax)\n",
    "        ax.set_title('Clear speack')\n",
    "        fig.colorbar(img, ax=ax, format=\"%+2.0f dB\")\n",
    "\n",
    "        break\n",
    "    break\n",
    "\n",
    "for xb,yb in validation_loader:\n",
    "\n",
    "    for i in range(len(xb)):\n",
    "        noise_and_speach_stft_abs_db = librosa.amplitude_to_db(xb[1],ref=np.max)\n",
    "        fig, ax = plt.subplots()\n",
    "        img = librosa.display.specshow(noise_and_speach_stft_abs_db, y_axis='linear', x_axis='time', ax=ax)\n",
    "        ax.set_title('Noisy speach')\n",
    "        fig.colorbar(img, ax=ax, format=\"%+2.0f dB\")\n",
    "\n",
    "        noise_and_speach_stft_abs_db = librosa.amplitude_to_db(yb[1],ref=np.max)\n",
    "        fig, ax = plt.subplots()\n",
    "        img = librosa.display.specshow(noise_and_speach_stft_abs_db, y_axis='linear', x_axis='time', ax=ax)\n",
    "        ax.set_title('Clear speack')\n",
    "        fig.colorbar(img, ax=ax, format=\"%+2.0f dB\")\n",
    "\n",
    "        break\n",
    "    break\n",
    "\n",
    "for xb,yb in test_loader:\n",
    "\n",
    "    for i in range(len(xb)):\n",
    "        noise_and_speach_stft_abs_db = librosa.amplitude_to_db(xb[1],ref=np.max)\n",
    "        fig, ax = plt.subplots()\n",
    "        img = librosa.display.specshow(noise_and_speach_stft_abs_db, y_axis='linear', x_axis='time', ax=ax)\n",
    "        ax.set_title('Noisy speach')\n",
    "        fig.colorbar(img, ax=ax, format=\"%+2.0f dB\")\n",
    "\n",
    "        noise_and_speach_stft_abs_db = librosa.amplitude_to_db(yb[1],ref=np.max)\n",
    "        fig, ax = plt.subplots()\n",
    "        img = librosa.display.specshow(noise_and_speach_stft_abs_db, y_axis='linear', x_axis='time', ax=ax)\n",
    "        ax.set_title('Clear speack')\n",
    "        fig.colorbar(img, ax=ax, format=\"%+2.0f dB\")\n",
    "\n",
    "        break\n",
    "    break\n",
    "        "
   ]
  },
  {
   "cell_type": "markdown",
   "id": "7cab11a3",
   "metadata": {},
   "source": [
    "## Model"
   ]
  },
  {
   "cell_type": "code",
   "execution_count": 65,
   "id": "38bae560",
   "metadata": {},
   "outputs": [],
   "source": [
    "import torch.nn as nn\n",
    "import torch.optim as optim"
   ]
  },
  {
   "cell_type": "code",
   "execution_count": 66,
   "id": "2ad885a0",
   "metadata": {},
   "outputs": [],
   "source": [
    "class Lambda(nn.Module):\n",
    "    def __init__(self, func):\n",
    "        super().__init__()\n",
    "        self.func = func\n",
    "    def forward(self, x):\n",
    "        return self.func(x)"
   ]
  },
  {
   "cell_type": "code",
   "execution_count": 67,
   "id": "5c8f449d",
   "metadata": {},
   "outputs": [],
   "source": [
    "\n",
    "model = nn.Sequential(\n",
    "    Lambda(lambda x: x.view(-1, 1, 129, 8)),\n",
    "    nn.Conv2d(1, 16, kernel_size=3),\n",
    "    nn.ReLU(),\n",
    "    nn.Conv2d(16, 16, kernel_size=3),\n",
    "    nn.ReLU(),\n",
    "    nn.Conv2d(16, 1, kernel_size=3),\n",
    "    nn.ReLU(),\n",
    "    nn.AdaptiveAvgPool2d((129,1))\n",
    ")\n"
   ]
  },
  {
   "cell_type": "code",
   "execution_count": 68,
   "id": "c4b7d996",
   "metadata": {},
   "outputs": [],
   "source": [
    "def loss_fn(a, b):\n",
    "    return ((a - b) ** 2).mean()"
   ]
  },
  {
   "cell_type": "markdown",
   "id": "3ab69acb",
   "metadata": {},
   "source": [
    "## Train"
   ]
  },
  {
   "cell_type": "code",
   "execution_count": 70,
   "id": "a387652c",
   "metadata": {},
   "outputs": [
    {
     "name": "stdout",
     "output_type": "stream",
     "text": [
      "Using device cuda, (cuda:0 is prefered over CPU).\n",
      "epoha\n",
      "Epoch 0: 0.261\n",
      "epoha\n",
      "Epoch 1: 0.261\n",
      "epoha\n",
      "Epoch 2: 0.261\n",
      "epoha\n",
      "Epoch 3: 0.261\n",
      "epoha\n",
      "Epoch 4: 0.261\n"
     ]
    }
   ],
   "source": [
    "optimizer = torch.optim.SGD(model.parameters(), lr = 0.1, momentum = 0.9)\n",
    "\n",
    "#optimizer = optim.Adam(filter(lambda p: p.requires_grad, finetuned_model.parameters()))\n",
    "\n",
    "device=torch.device(\"cuda\")\n",
    "model.to(device)\n",
    "\n",
    "#device = torch.device(\"cuda:0\" if torch.cuda.is_available() else \"cpu\")\n",
    "print(f\"Using device {device}, (cuda:0 is prefered over CPU).\")  \n",
    "\n",
    "for epoch in range(5):\n",
    "    print(\"epoha\")\n",
    "    \n",
    "    model.train()\n",
    "    for xb,yb in train_loader:\n",
    "        xb,yb=xb.to(device),yb.to(device)\n",
    "        \n",
    "        pred = model(xb)\n",
    "        loss = loss_fn(pred, yb)\n",
    "        \n",
    "        optimizer.zero_grad()\n",
    "        loss.backward()\n",
    "        optimizer.step()\n",
    "    \n",
    "    model.eval()\n",
    "    for xb,yb in validation_loader:\n",
    "        xb,yb=xb.to(device),yb.to(device)\n",
    "        \n",
    "        pred=model(xb)\n",
    "        loss+=loss_fn(pred,yb).sum()\n",
    "        \n",
    "    avg_loss=loss/len(validation_loader)\n",
    "    \n",
    "    print(f\"Epoch {epoch}: {avg_loss:.3f}\")"
   ]
  },
  {
   "cell_type": "code",
   "execution_count": null,
   "id": "0f1d7229",
   "metadata": {},
   "outputs": [],
   "source": []
  }
 ],
 "metadata": {
  "kernelspec": {
   "display_name": "Python 3",
   "language": "python",
   "name": "python3"
  },
  "language_info": {
   "codemirror_mode": {
    "name": "ipython",
    "version": 3
   },
   "file_extension": ".py",
   "mimetype": "text/x-python",
   "name": "python",
   "nbconvert_exporter": "python",
   "pygments_lexer": "ipython3",
   "version": "3.8.8"
  }
 },
 "nbformat": 4,
 "nbformat_minor": 5
}
